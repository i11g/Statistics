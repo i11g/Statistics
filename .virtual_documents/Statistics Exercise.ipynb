get_ipython().run_line_magic("matplotlib", " inline")


import numpy as np
import matplotlib.pyplot as plt
import pandas as pd
# Write yor imports here








digits = pd.read_table("digits.dat", header = None, sep="\t").T


digits.columns = ["pi", "e"]


digits.pi


plt.bar(digits.index, digits.pi)

plt.xticks(range(10))

plt.title("Distribution of the first 10 000 digits of $\\pi$")
plt.xlabel("Digit")
plt.ylabel("Count")

plt.show()


digits.e


plt.bar(digits.index, digits.e)

plt.xticks(digits.index)
plt.title("Distribution of the first 10 000 digits in $e$")
plt.xlabel("Digits")
plt.ylabel("Count")

plt.show()





silica = pd.read_table("silica.dat", header = None)
silica.columns = ["silica_content"]


plt.hist(silica.silica_content, bins="auto")

plt.axvline(silica.silica_content.mean(), c="red", label="mean")
plt.axvline(silica.silica_content.mean() - silica.silica_content.std(), c="orange", label="mean - std")
plt.axvline(silica.silica_content.mean() + silica.silica_content.std(), c="orange", label="mean + std")

plt.xlabel("Silica [%]")
plt.ylabel("Count")

plt.legend()
plt.show()


silica.silica_content.mean()





# Write your code here





# Write your code here





def get_customer_profit():
    n = np.random.random()
    if n <= 0.5:
        return 0.99
    elif n < 0.65:
        return 2.89
    elif n <= 0.85:
        return 2
    else:
        return 6.39


days = 1000
def run_simulation():
    profits = []
    for day in range(days):
        customers = np.floor(np.random.normal(500, 20))
        profit = sum([get_customer_profit() for c in np.arange(customers)])
        profits.append(profit)
    return profits


profits = run_simulation()
plt.hist(profits, bins = 50)
plt.xlabel("Profit for " + str(days) + " days [$]")
plt.ylabel("Count")
plt.show()





def get_customer_profit_many_items(items = 1):
    customer_sum = sum([get_customer_profit() for i in range(items)])
    return customer_sum

def get_total_customer_profit():
    n = np.random.random()
    if n <= 0.5:
        return get_customer_profit_many_items(1)
    elif n <= 0.8:
        return get_customer_profit_many_items(2)
    else:
        return get_customer_profit_many_items(3)


def run_simulation_many_items():
    days = 1000
    profits_many_items = []
    for day in range(days):
        customers = np.floor(np.random.normal(500, 20))
        profit = sum([get_total_customer_profit() for c in np.arange(customers)])
        profits_many_items.append(profit)
    return profits_many_items


profits_many_items = run_simulation_many_items()
plt.hist(profits_many_items, bins = 50)
plt.xlabel("Profit for " + str(days) + " days [$]")
plt.ylabel("Count")
plt.show()


plt.title("Comparison of profits: 1 vs 3 items")
plt.hist(profits, bins = 20)
plt.hist(profits_many_items, bins = 20)
plt.xlabel("Profit")
plt.ylabel("Count")
plt.show()






